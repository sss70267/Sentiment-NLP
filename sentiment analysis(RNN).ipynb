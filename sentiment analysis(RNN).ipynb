{
 "cells": [
  {
   "cell_type": "code",
   "execution_count": 13,
   "id": "7e249dfe",
   "metadata": {},
   "outputs": [],
   "source": [
    "import tensorflow as tf\n",
    "import tensorflow_datasets as tfds\n",
    "import tarfile   \n",
    "import numpy as np\n",
    "import pyprind\n",
    "import pandas as pd\n",
    "import os"
   ]
  },
  {
   "cell_type": "markdown",
   "id": "de3a5712",
   "metadata": {},
   "source": [
    "# 資料載入、預處理"
   ]
  },
  {
   "cell_type": "code",
   "execution_count": 14,
   "id": "05e57857",
   "metadata": {},
   "outputs": [],
   "source": [
    "#with tarfile.open('aclImdb_v1.tar.gz','r:gz') as tar:\n",
    "#    tar.extractall()"
   ]
  },
  {
   "cell_type": "code",
   "execution_count": 15,
   "id": "a20dde26",
   "metadata": {},
   "outputs": [],
   "source": [
    "#basepath = 'aclImdb'\n",
    "#\n",
    "#labels = {'pos':1,'neg':0}\n",
    "#bar = pyprind.ProgBar(50000)   #檔案數目\n",
    "#df = pd.DataFrame()\n",
    "#for s in ('test','train'):\n",
    "#    for l in ('pos','neg'):\n",
    "#        path = os.path.join(basepath,s,l)\n",
    "#        for file  in os.listdir(path):\n",
    "#            with open(os.path.join(path,file),'r',encoding= 'utf-8') as infile:  #讀取每個文件內容\n",
    "#                txt = infile.read()\n",
    "#            df = df.append([[txt,labels[l]]],                 #內容、標籤\n",
    "#                           ignore_index = True)\n",
    "#            bar.update()\n",
    "#df.columns = ['review','sentiment']\n",
    "#\n",
    "#df.columns = ['review','sentiment']\n",
    "#df.to_csv('movie_data.csv',index = False, encoding = 'utf-8') #存為csv\n",
    "#df.head(10)"
   ]
  },
  {
   "cell_type": "code",
   "execution_count": 16,
   "id": "811b41b8",
   "metadata": {},
   "outputs": [
    {
     "name": "stdout",
     "output_type": "stream",
     "text": [
      "b'An actor asks, \"What\\'s my motivation?,\" to underst' 0\n",
      "b\"Robot Jox doesn't suffer from story or bad effects\" 1\n",
      "b\"I was looking forward to Dante's contribution to t\" 0\n"
     ]
    }
   ],
   "source": [
    "df = pd.read_csv('movie_data.csv',encoding='utf-8')   #(50000, 2)\n",
    "df = df.reindex(np.random.permutation(df.index)) #隨機排列 讀取資料\n",
    "target = df.pop('sentiment')\n",
    "ds_raw = tf.data.Dataset.from_tensor_slices((df.values,target.values))\n",
    "for ex in ds_raw.take(3):\n",
    "    tf.print(ex[0].numpy()[0][0:50],ex[1])"
   ]
  },
  {
   "cell_type": "code",
   "execution_count": 17,
   "id": "35be536c",
   "metadata": {},
   "outputs": [],
   "source": [
    "ds_raw = ds_raw.shuffle(50000,reshuffle_each_iteration=False)\n",
    "ds_raw_test = ds_raw.take(25000)                    #前25000筆為測試集\n",
    "ds_raw_train_valid = ds_raw.skip(25000)             #後25000為資料驗證\n",
    "ds_raw_train = ds_raw_train_valid.take(20000)       #20000筆為訓練\n",
    "ds_raw_valid = ds_raw_train_valid.skip(20000)       #5000為驗證"
   ]
  },
  {
   "cell_type": "code",
   "execution_count": 18,
   "id": "5f3f3969",
   "metadata": {},
   "outputs": [
    {
     "name": "stdout",
     "output_type": "stream",
     "text": [
      "vacab: 87425\n",
      "[578, 1094, 30196]\n"
     ]
    }
   ],
   "source": [
    "from collections import Counter\n",
    "\n",
    "tokenizer =  tfds.deprecated.text.Tokenizer()   #tokenizer = tfds.features.text.Tokenizer() 已停用\n",
    "token_counts = Counter()\n",
    "\n",
    "for example in ds_raw_train:\n",
    "    tokens = tokenizer.tokenize(example[0].numpy()[0])\n",
    "    token_counts.update(tokens)\n",
    "    \n",
    "print('vacab:',len(token_counts))\n",
    "\n",
    "encoder = tfds.deprecated.text.TokenTextEncoder(token_counts)\n",
    "text1 = 'i love python!'\n",
    "\n",
    "print(encoder.encode(text1))    #無python單字，自動新增為最後一個索引\n"
   ]
  },
  {
   "cell_type": "code",
   "execution_count": 6,
   "id": "02b232f5",
   "metadata": {},
   "outputs": [],
   "source": [
    "#define_1  輸入張量\n",
    "\n",
    "#define_2 使用tf.py_function 包裝 define_1 使用map()\n",
    "\n",
    "def encode(text_tensor, label):\n",
    "    text = text_tensor.numpy()[0]\n",
    "    encoded_text = encoder.encode(text)\n",
    "    return encoded_text, label\n",
    "\n",
    "def encode_map(text, label):\n",
    "    return tf.py_function(encode, inp=[text, label], \n",
    "                          Tout=(tf.int64, tf.int64))"
   ]
  },
  {
   "cell_type": "code",
   "execution_count": 20,
   "id": "b798c341",
   "metadata": {},
   "outputs": [],
   "source": [
    "ds_train = ds_raw_train.map(encode_map)\n",
    "ds_valid = ds_raw_valid.map(encode_map)\n",
    "ds_test = ds_raw_test.map(encode_map)\n",
    "\n",
    "\n",
    "train_data = ds_train.padded_batch(           #批次次分為大小32     \n",
    "    32, padded_shapes=([-1],[]))\n",
    "\n",
    "valid_data = ds_valid.padded_batch(\n",
    "    32, padded_shapes=([-1],[]))\n",
    "\n",
    "test_data = ds_test.padded_batch(\n",
    "    32, padded_shapes=([-1],[]))"
   ]
  },
  {
   "cell_type": "code",
   "execution_count": 21,
   "id": "874fa630",
   "metadata": {},
   "outputs": [],
   "source": [
    "#for ex in train_data.take(10):\n",
    "#    print(ex[0].shape)"
   ]
  },
  {
   "cell_type": "code",
   "execution_count": null,
   "id": "9b85dd70",
   "metadata": {},
   "outputs": [],
   "source": [
    "len(token_counts)"
   ]
  },
  {
   "cell_type": "code",
   "execution_count": 22,
   "id": "94165e57",
   "metadata": {},
   "outputs": [],
   "source": [
    "from tensorflow.keras import Sequential\n",
    "from tensorflow.keras.layers import Embedding\n",
    "from tensorflow.keras.layers import SimpleRNN\n",
    "from tensorflow.keras.layers import Dense"
   ]
  },
  {
   "cell_type": "markdown",
   "id": "6f8ac3c8",
   "metadata": {},
   "source": [
    "# RNN情緒分析"
   ]
  },
  {
   "cell_type": "code",
   "execution_count": 23,
   "id": "86fb963f",
   "metadata": {},
   "outputs": [
    {
     "name": "stdout",
     "output_type": "stream",
     "text": [
      "Model: \"sequential_1\"\n",
      "_________________________________________________________________\n",
      " Layer (type)                Output Shape              Param #   \n",
      "=================================================================\n",
      " embed-layer (Embedding)     (None, None, 20)          1748540   \n",
      "                                                                 \n",
      " bidir-lstm (Bidirectional)  (None, 128)               43520     \n",
      "                                                                 \n",
      " dense_3 (Dense)             (None, 64)                8256      \n",
      "                                                                 \n",
      " dense_4 (Dense)             (None, 1)                 65        \n",
      "                                                                 \n",
      "=================================================================\n",
      "Total params: 1,800,381\n",
      "Trainable params: 1,800,381\n",
      "Non-trainable params: 0\n",
      "_________________________________________________________________\n",
      "Epoch 1/10\n",
      "625/625 [==============================] - 195s 309ms/step - loss: 0.5402 - accuracy: 0.7210 - val_loss: 0.4975 - val_accuracy: 0.7582\n",
      "Epoch 2/10\n",
      "625/625 [==============================] - 188s 300ms/step - loss: 0.2642 - accuracy: 0.8971 - val_loss: 0.3658 - val_accuracy: 0.8674\n",
      "Epoch 3/10\n",
      "625/625 [==============================] - 197s 315ms/step - loss: 0.1563 - accuracy: 0.9462 - val_loss: 0.3992 - val_accuracy: 0.8382\n",
      "Epoch 4/10\n",
      "625/625 [==============================] - 243s 388ms/step - loss: 0.0783 - accuracy: 0.9744 - val_loss: 0.5089 - val_accuracy: 0.8508\n",
      "Epoch 5/10\n",
      "625/625 [==============================] - 244s 390ms/step - loss: 0.0619 - accuracy: 0.9801 - val_loss: 0.5107 - val_accuracy: 0.8422\n",
      "Epoch 6/10\n",
      "625/625 [==============================] - 255s 408ms/step - loss: 0.0469 - accuracy: 0.9845 - val_loss: 0.5853 - val_accuracy: 0.8314\n",
      "Epoch 7/10\n",
      "625/625 [==============================] - 256s 409ms/step - loss: 0.0372 - accuracy: 0.9884 - val_loss: 0.5620 - val_accuracy: 0.8384\n",
      "Epoch 8/10\n",
      "625/625 [==============================] - 257s 411ms/step - loss: 0.0375 - accuracy: 0.9889 - val_loss: 0.6134 - val_accuracy: 0.8408\n",
      "Epoch 9/10\n",
      "625/625 [==============================] - 261s 418ms/step - loss: 0.0355 - accuracy: 0.9898 - val_loss: 0.6620 - val_accuracy: 0.8426\n",
      "Epoch 10/10\n",
      "625/625 [==============================] - 266s 425ms/step - loss: 0.0426 - accuracy: 0.9867 - val_loss: 0.7083 - val_accuracy: 0.8224\n",
      "782/782 [==============================] - 115s 148ms/step - loss: 0.7649 - accuracy: 0.8153\n",
      "Test Acc.: 81.53%\n"
     ]
    }
   ],
   "source": [
    "#embedding_dim = 20\n",
    "#vocab_size = len(token_counts) + 2\n",
    "#\n",
    "#tf.random.set_seed(1)\n",
    "#\n",
    "### 建立模組\n",
    "#bi_lstm_model = tf.keras.Sequential([\n",
    "#    tf.keras.layers.Embedding(\n",
    "#        input_dim=vocab_size,\n",
    "#        output_dim=embedding_dim,\n",
    "#        name='embed-layer'),\n",
    "#    \n",
    "#    tf.keras.layers.Bidirectional(\n",
    "#        tf.keras.layers.LSTM(64, name='lstm-layer'),\n",
    "#        name='bidir-lstm'), \n",
    "#\n",
    "#    tf.keras.layers.Dense(64, activation='relu'),\n",
    "#    \n",
    "#    tf.keras.layers.Dense(1, activation='sigmoid')\n",
    "#])\n",
    "#\n",
    "#bi_lstm_model.summary()\n",
    "#\n",
    "### 編譯\n",
    "#bi_lstm_model.compile(\n",
    "#    optimizer=tf.keras.optimizers.Adam(1e-3),\n",
    "#    loss=tf.keras.losses.BinaryCrossentropy(from_logits=False),\n",
    "#    metrics=['accuracy'])\n",
    "#\n",
    "#history = bi_lstm_model.fit(\n",
    "#    train_data, \n",
    "#    validation_data=valid_data, \n",
    "#    epochs=10)\n",
    "#\n",
    "### 評估測試資料\n",
    "#test_results= bi_lstm_model.evaluate(test_data)\n",
    "#print('Test Acc.: {:.2f}%'.format(test_results[1]*100))"
   ]
  },
  {
   "cell_type": "code",
   "execution_count": 37,
   "id": "6eff5ca3",
   "metadata": {},
   "outputs": [
    {
     "data": {
      "image/png": "[encoded data removed]",
      "text/plain": [
       "<Figure size 864x288 with 2 Axes>"
      ]
     },
     "metadata": {
      "needs_background": "light"
     },
     "output_type": "display_data"
    }
   ],
   "source": [
    "import matplotlib.pyplot as plt\n",
    "hist = history.history\n",
    "\n",
    "x_arr = np.arange(len(hist['loss'])) + 1\n",
    "fig = plt.figure(figsize=(12,4))\n",
    "ax = fig.add_subplot(1,2,1)\n",
    "ax.plot(x_arr,hist['loss'],'-o',label = 'loss')\n",
    "ax.plot(x_arr,hist['val_loss'],'--<',label = 'val_loss')\n",
    "ax.legend()\n",
    "ax.set_xlabel('epoch')\n",
    "ax.set_ylabel('loss')\n",
    "ax = fig.add_subplot(1,2,2)\n",
    "ax.plot(x_arr,hist['accuracy'],'-o',label = 'acc')\n",
    "ax.plot(x_arr,hist['val_accuracy'],'--<',label = 'val_acc')\n",
    "ax.legend()\n",
    "ax.set_xlabel('epoch')\n",
    "ax.set_ylabel('accuracy')\n",
    "plt.show()\n"
   ]
  },
  {
   "cell_type": "markdown",
   "id": "92c12d26",
   "metadata": {},
   "source": [
    "# 分析 loss 和 val_loss (test_loss)變化情况\n",
    "https://blog.csdn.net/JaysonRen/article/details/103273519"
   ]
  },
  {
   "cell_type": "code",
   "execution_count": 1,
   "id": "496e42be",
   "metadata": {},
   "outputs": [],
   "source": [
    "#model_rnn.save('model_rnn.h5')\n",
    "from tensorflow.keras.models import load_model\n",
    "\n",
    "model_rnn = load_model('model_rnn.h5')"
   ]
  }
 ],
 "metadata": {
  "kernelspec": {
   "display_name": "Python 3 (ipykernel)",
   "language": "python",
   "name": "python3"
  },
  "language_info": {
   "codemirror_mode": {
    "name": "ipython",
    "version": 3
   },
   "file_extension": ".py",
   "mimetype": "text/x-python",
   "name": "python",
   "nbconvert_exporter": "python",
   "pygments_lexer": "ipython3",
   "version": "3.9.12"
  }
 },
 "nbformat": 4,
 "nbformat_minor": 5
}
