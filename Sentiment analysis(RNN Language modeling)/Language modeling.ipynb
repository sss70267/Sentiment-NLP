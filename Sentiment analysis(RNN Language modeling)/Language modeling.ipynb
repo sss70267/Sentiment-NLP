{
 "cells": [
  {
   "cell_type": "code",
   "execution_count": 1,
   "id": "c0db9824",
   "metadata": {},
   "outputs": [],
   "source": [
    "import numpy as np "
   ]
  },
  {
   "cell_type": "code",
   "execution_count": 2,
   "id": "7b202075",
   "metadata": {},
   "outputs": [],
   "source": [
    "with open('1268-0.txt','r',encoding='utf-8') as fp:     #檔案讀取\n",
    "    text = fp.read()"
   ]
  },
  {
   "cell_type": "code",
   "execution_count": 3,
   "id": "a40db5fc",
   "metadata": {},
   "outputs": [
    {
     "name": "stdout",
     "output_type": "stream",
     "text": [
      "length:1130710\n",
      "unique:85\n"
     ]
    }
   ],
   "source": [
    "start_indx = text.find('THE MYSTERIOUS ISLAND')\n",
    "end_indx =text.find('End of the Project Gutenberg')\n",
    "text = text[start_indx:end_indx]                     #文章 頭->尾\n",
    "char_set = set(text)                                 #唯一字符\n",
    "print('length:{}\\nunique:{}'.format(len(text),len(char_set)))"
   ]
  },
  {
   "cell_type": "code",
   "execution_count": 4,
   "id": "f699ffbe",
   "metadata": {},
   "outputs": [
    {
     "name": "stdout",
     "output_type": "stream",
     "text": [
      "THE MYSTERIOUS ISLAN <<encoding>> [48 36 33  1 41 53 47 48 33 46 37 43 49 47  1 37 47 40 29 42]\n",
      "[48 36 33  1 41 53 47 48 33 46 37 43 49 47  1 37 47 40 29 42] ==reverse== THE MYSTERIOUS ISLAN\n",
      "對應整數:\n",
      " {'\\n': 0, ' ': 1, '!': 2, '\"': 3, '$': 4, '%': 5, '&': 6, \"'\": 7, '(': 8, ')': 9, '*': 10, ',': 11, '-': 12, '.': 13, '/': 14, '0': 15, '1': 16, '2': 17, '3': 18, '4': 19, '5': 20, '6': 21, '7': 22, '8': 23, '9': 24, ':': 25, ';': 26, '=': 27, '?': 28, 'A': 29, 'B': 30, 'C': 31, 'D': 32, 'E': 33, 'F': 34, 'G': 35, 'H': 36, 'I': 37, 'J': 38, 'K': 39, 'L': 40, 'M': 41, 'N': 42, 'O': 43, 'P': 44, 'Q': 45, 'R': 46, 'S': 47, 'T': 48, 'U': 49, 'V': 50, 'W': 51, 'X': 52, 'Y': 53, 'Z': 54, 'a': 55, 'b': 56, 'c': 57, 'd': 58, 'e': 59, 'f': 60, 'g': 61, 'h': 62, 'i': 63, 'j': 64, 'k': 65, 'l': 66, 'm': 67, 'n': 68, 'o': 69, 'p': 70, 'q': 71, 'r': 72, 's': 73, 't': 74, 'u': 75, 'v': 76, 'w': 77, 'x': 78, 'y': 79, 'z': 80, '‘': 81, '’': 82, '“': 83, '”': 84}\n"
     ]
    }
   ],
   "source": [
    "chars_sorted = sorted(char_set)   #排序\n",
    "char2int = {ch:i for i,ch in enumerate(chars_sorted)}   #字元對應整數 0~84\n",
    "char_array = np.array(chars_sorted)                     #透過np最索引\n",
    "text_encoded = np.array(                                #透過np最索引\n",
    "    [char2int[ch] for ch in text],dtype = np.int32)\n",
    "print(text[0:20],'<<encoding>>',text_encoded[0:20])\n",
    "print(text_encoded[0:20],'==reverse==',''.join(char_array[text_encoded[0:20]]))\n",
    "print('對應整數:\\n',char2int)"
   ]
  },
  {
   "cell_type": "code",
   "execution_count": 5,
   "id": "16756a42",
   "metadata": {},
   "outputs": [
    {
     "name": "stdout",
     "output_type": "stream",
     "text": [
      "48==>T\n",
      "36==>H\n",
      "33==>E\n",
      "1==> \n",
      "41==>M\n",
      "53==>Y\n",
      "47==>S\n",
      "48==>T\n",
      "33==>E\n",
      "46==>R\n",
      "37==>I\n",
      "43==>O\n",
      "49==>U\n",
      "47==>S\n",
      "1==> \n",
      "37==>I\n",
      "47==>S\n",
      "40==>L\n",
      "29==>A\n",
      "42==>N\n",
      "<TensorSliceDataset element_spec=TensorSpec(shape=(), dtype=tf.int32, name=None)>\n"
     ]
    }
   ],
   "source": [
    "import tensorflow as tf\n",
    "ds_text_encoded = tf.data.Dataset.from_tensor_slices(text_encoded)#建立tf數據集\n",
    "for ex in ds_text_encoded.take(20):\n",
    "    print('{}==>{}'.format(ex.numpy(),char_array[ex.numpy()])) #1為空白鍵\n",
    "print(ds_text_encoded)                  "
   ]
  },
  {
   "cell_type": "code",
   "execution_count": 6,
   "id": "a249a840",
   "metadata": {},
   "outputs": [
    {
     "name": "stdout",
     "output_type": "stream",
     "text": [
      "inp (x): 'THE MYSTERIOUS ISLAND ***\\n\\n\\n\\n\\nTHE MYSTER'\n",
      "inp (x): 'HE MYSTERIOUS ISLAND ***\\n\\n\\n\\n\\nTHE MYSTERI'\n",
      "inp (x): 'OUS ISLAND\\n\\nby Jules Verne\\n\\n1874\\n\\n\\n\\n\\nPAR'\n",
      "inp (x): 'US ISLAND\\n\\nby Jules Verne\\n\\n1874\\n\\n\\n\\n\\nPART'\n",
      "inp (x): ' 1--DROPPED FROM THE CLOUDS\\n\\n\\n\\nChapter 1'\n",
      "inp (x): '1--DROPPED FROM THE CLOUDS\\n\\n\\n\\nChapter 1\\n'\n"
     ]
    }
   ],
   "source": [
    "chunk_size = 41\n",
    "ds_chunks = ds_text_encoded.batch(chunk_size,drop_remainder=True) #最後一批少於41字元就刪除\n",
    "\n",
    "def spilt_input_target(chunk):\n",
    "    input_seq = chunk[:-1]\n",
    "    target_seq = chunk[1:]\n",
    "    return input_seq,target_seq\n",
    "\n",
    "ds_sequences = ds_chunks.map(spilt_input_target)\n",
    "\n",
    "for example in ds_sequences.take(3):\n",
    "    print('inp (x):',repr(''.join(char_array[example[0].numpy()])))\n",
    "    print('inp (x):',repr(''.join(char_array[example[1].numpy()])))"
   ]
  },
  {
   "cell_type": "code",
   "execution_count": 7,
   "id": "0ac0e88f",
   "metadata": {},
   "outputs": [],
   "source": [
    "batch_size = 64\n",
    "buffer_size = 10000\n",
    "ds = ds_sequences.shuffle(buffer_size).batch(batch_size)"
   ]
  },
  {
   "cell_type": "markdown",
   "id": "b5fcb338",
   "metadata": {},
   "source": [
    "# 建立RNN模型"
   ]
  },
  {
   "cell_type": "code",
   "execution_count": 13,
   "id": "f49597b5",
   "metadata": {},
   "outputs": [
    {
     "name": "stdout",
     "output_type": "stream",
     "text": [
      "Model: \"sequential\"\n",
      "_________________________________________________________________\n",
      " Layer (type)                Output Shape              Param #   \n",
      "=================================================================\n",
      " embedding (Embedding)       (None, None, 256)         21760     \n",
      "                                                                 \n",
      " lstm (LSTM)                 (None, None, 512)         1574912   \n",
      "                                                                 \n",
      " dense (Dense)               (None, None, 85)          43605     \n",
      "                                                                 \n",
      "=================================================================\n",
      "Total params: 1,640,277\n",
      "Trainable params: 1,640,277\n",
      "Non-trainable params: 0\n",
      "_________________________________________________________________\n"
     ]
    }
   ],
   "source": [
    "#def build_model(vocab_size,embedding_dim,rnn_units):\n",
    "#    model = tf.keras.Sequential([\n",
    "#        tf.keras.layers.Embedding(vocab_size,embedding_dim),\n",
    "#        tf.keras.layers.LSTM(\n",
    "#            rnn_units,\n",
    "#            return_sequences=True),\n",
    "#        tf.keras.layers.Dense(vocab_size)\n",
    "#    ])\n",
    "#    return model\n",
    "#\n",
    "#charset_size = len(char_array)\n",
    "#embedding_dim = 256 \n",
    "#rnn_units = 512\n",
    "#\n",
    "#model = build_model(charset_size,embedding_dim,rnn_units)\n",
    "#model.summary()"
   ]
  },
  {
   "cell_type": "markdown",
   "id": "314642eb",
   "metadata": {},
   "source": [
    "# 訓練模型"
   ]
  },
  {
   "cell_type": "code",
   "execution_count": 14,
   "id": "263bb595",
   "metadata": {},
   "outputs": [
    {
     "name": "stdout",
     "output_type": "stream",
     "text": [
      "Epoch 1/20\n",
      "431/431 [==============================] - 120s 275ms/step - loss: 2.3061\n",
      "Epoch 2/20\n",
      "431/431 [==============================] - 119s 275ms/step - loss: 1.7417\n",
      "Epoch 3/20\n",
      "431/431 [==============================] - 118s 274ms/step - loss: 1.5352\n",
      "Epoch 4/20\n",
      "431/431 [==============================] - 119s 274ms/step - loss: 1.4178\n",
      "Epoch 5/20\n",
      "431/431 [==============================] - 118s 273ms/step - loss: 1.3455\n",
      "Epoch 6/20\n",
      "431/431 [==============================] - 118s 272ms/step - loss: 1.2948\n",
      "Epoch 7/20\n",
      "431/431 [==============================] - 118s 273ms/step - loss: 1.2565\n",
      "Epoch 8/20\n",
      "431/431 [==============================] - 118s 273ms/step - loss: 1.2269\n",
      "Epoch 9/20\n",
      "431/431 [==============================] - 118s 272ms/step - loss: 1.2013\n",
      "Epoch 10/20\n",
      "431/431 [==============================] - 118s 272ms/step - loss: 1.1795\n",
      "Epoch 11/20\n",
      "431/431 [==============================] - 118s 273ms/step - loss: 1.1600\n",
      "Epoch 12/20\n",
      "431/431 [==============================] - 118s 273ms/step - loss: 1.1423\n",
      "Epoch 13/20\n",
      "431/431 [==============================] - 118s 272ms/step - loss: 1.1257\n",
      "Epoch 14/20\n",
      "431/431 [==============================] - 118s 272ms/step - loss: 1.1104\n",
      "Epoch 15/20\n",
      "431/431 [==============================] - 118s 273ms/step - loss: 1.0951\n",
      "Epoch 16/20\n",
      "431/431 [==============================] - 118s 272ms/step - loss: 1.0812\n",
      "Epoch 17/20\n",
      "431/431 [==============================] - 118s 273ms/step - loss: 1.0681\n",
      "Epoch 18/20\n",
      "431/431 [==============================] - 118s 273ms/step - loss: 1.0539\n",
      "Epoch 19/20\n",
      "431/431 [==============================] - 118s 273ms/step - loss: 1.0412\n",
      "Epoch 20/20\n",
      "431/431 [==============================] - 118s 273ms/step - loss: 1.0289\n"
     ]
    },
    {
     "data": {
      "text/plain": [
       "<keras.callbacks.History at 0x2477ec85af0>"
      ]
     },
     "execution_count": 14,
     "metadata": {},
     "output_type": "execute_result"
    }
   ],
   "source": [
    "#model.compile(\n",
    "#    optimizer='adam',\\\n",
    "#    loss=tf.keras.losses.SparseCategoricalCrossentropy(from_logits=True))\n",
    "#model.fit(ds,epochs=20)"
   ]
  },
  {
   "cell_type": "code",
   "execution_count": 8,
   "id": "c107f827",
   "metadata": {},
   "outputs": [],
   "source": [
    "#model.save('rnn_lage.h5')\n",
    "from tensorflow.keras.models import load_model"
   ]
  },
  {
   "cell_type": "markdown",
   "id": "20ded5a6",
   "metadata": {},
   "source": [
    "# 產生 新文本"
   ]
  },
  {
   "cell_type": "code",
   "execution_count": 9,
   "id": "e8c2aa06",
   "metadata": {},
   "outputs": [],
   "source": [
    "def sample(model,starting_str,len_str=200,max_input=40,scale_factor=2.0):  #1模組>2輸入字串>3文章長度>4最大輸入值>5正規化\n",
    "    encoded_input = [char2int[s] for s in starting_str]\n",
    "    encoded_input = tf.reshape(encoded_input,(1,-1))\n",
    "    generater = starting_str\n",
    "    model.reset_states()\n",
    "    for i in range(len_str):\n",
    "        logits = model(encoded_input)\n",
    "        logits = tf.squeeze(logits,0)\n",
    "        \n",
    "        scaled_logits = logits*scale_factor\n",
    "        new_char_indx = tf.random.categorical(scaled_logits,num_samples=1)\n",
    "        new_char_indx = tf.squeeze(new_char_indx)[-1].numpy()\n",
    "        \n",
    "        generater += str(char_array[new_char_indx])\n",
    "        \n",
    "        new_char_indx = tf.expand_dims([new_char_indx],0)\n",
    "        encoded_input = tf.concat([encoded_input,new_char_indx],axis = 1)\n",
    "        encoded_input = encoded_input[:,-max_input:]\n",
    "    return generater"
   ]
  },
  {
   "cell_type": "code",
   "execution_count": 11,
   "id": "5041241d",
   "metadata": {},
   "outputs": [
    {
     "name": "stdout",
     "output_type": "stream",
     "text": [
      "i live in Taiwan into the channel, and the sailor was so best to ascertain a distance of a considerable cast, which was the settlers would have been to the corral. The mountain was the result of the island, which was\n"
     ]
    }
   ],
   "source": [
    "model = load_model('rnn_lage.h5')\n",
    "print(sample(model,starting_str='i live in Taiwan'))"
   ]
  },
  {
   "cell_type": "code",
   "execution_count": null,
   "id": "e04836a0",
   "metadata": {},
   "outputs": [],
   "source": []
  }
 ],
 "metadata": {
  "kernelspec": {
   "display_name": "Python 3 (ipykernel)",
   "language": "python",
   "name": "python3"
  },
  "language_info": {
   "codemirror_mode": {
    "name": "ipython",
    "version": 3
   },
   "file_extension": ".py",
   "mimetype": "text/x-python",
   "name": "python",
   "nbconvert_exporter": "python",
   "pygments_lexer": "ipython3",
   "version": "3.9.12"
  }
 },
 "nbformat": 4,
 "nbformat_minor": 5
}
